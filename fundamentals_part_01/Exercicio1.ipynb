{
 "cells": [
  {
   "cell_type": "markdown",
   "metadata": {},
   "source": [
    "### Instalando e Carregando Pacotes"
   ]
  },
  {
   "cell_type": "markdown",
   "metadata": {},
   "source": [
    "# <font color='Orange'>Diego Vergueiro</font>\n",
    "## <font color='Orange'>Matemática e Estatística Aplicada Para Data Science, Machine Learning e IA</font>\n",
    "## <font color='Orange'>Lab 1</font>\n",
    "## <font color='Orange'>Representando Equações via Programação</font>"
   ]
  },
  {
   "cell_type": "code",
   "execution_count": 14,
   "metadata": {},
   "outputs": [
    {
     "name": "stderr",
     "output_type": "stream",
     "text": [
      "296.67s - pydevd: Sending message related to process being replaced timed-out after 5 seconds\n"
     ]
    }
   ],
   "source": [
    "# Para atualizar um pacote, execute o comando abaixo no terminal ou prompt de comando:\n",
    "# pip install -U nome_pacote\n",
    "\n",
    "# Para instalar a versão exata de um pacote, execute o comando abaixo no terminal ou prompt de comando:\n",
    "# !pip install nome_pacote==versão_desejada\n",
    "\n",
    "# Depois de instalar ou atualizar o pacote, reinicie o jupyter notebook.\n",
    "\n",
    "# Instala o pacote watermark. \n",
    "# Esse pacote é usado para gravar as versões de outros pacotes usados neste jupyter notebook.\n",
    "!pip install -q -U watermark"
   ]
  },
  {
   "cell_type": "code",
   "execution_count": 15,
   "metadata": {},
   "outputs": [
    {
     "name": "stdout",
     "output_type": "stream",
     "text": [
      "Author: Diego Vergueiro\n",
      "\n",
      "debugpy  : 1.8.14\n",
      "ipykernel: 6.29.5\n",
      "\n"
     ]
    }
   ],
   "source": [
    "# Versões dos pacotes usados neste jupyter notebook\n",
    "%reload_ext watermark\n",
    "%watermark -a \"Diego Vergueiro\" --iversions"
   ]
  },
  {
   "cell_type": "markdown",
   "metadata": {},
   "source": [
    "**Resolva os exercícios abaixo usando Linguagem Python. Faça pesquisa complementar se necessário.**"
   ]
  },
  {
   "cell_type": "markdown",
   "metadata": {},
   "source": [
    "### Exercício 1: Cálculo de Área de um Círculo\n",
    "\n",
    "Escreva um programa que calcula a área de um círculo. O usuário deve fornecer o raio e o programa deve retornar a área."
   ]
  },
  {
   "cell_type": "code",
   "execution_count": null,
   "metadata": {},
   "outputs": [
    {
     "name": "stdout",
     "output_type": "stream",
     "text": [
      "3\n",
      "28.27 cm²\n"
     ]
    }
   ],
   "source": [
    "raio: int = int(input(\"Digite o raio: \"))\n",
    "print(raio)\n",
    "\n",
    "# a = pi * r²\n",
    "# a = π * r²\n",
    "\n",
    "raio_raio: int = raio * raio\n",
    "area: float = 3.14159 * raio_raio\n",
    "\n",
    "print(f'{area:.2f} cm²')"
   ]
  },
  {
   "cell_type": "markdown",
   "metadata": {},
   "source": [
    "### Exercício 2: Conversão de Temperatura\n",
    "\n",
    "Crie uma função que converte a temperatura de Celsius para Fahrenheit e vice-versa. O usuário deve informar a temperatura e a escala de origem."
   ]
  },
  {
   "cell_type": "code",
   "execution_count": 2,
   "metadata": {},
   "outputs": [
    {
     "name": "stdout",
     "output_type": "stream",
     "text": [
      "Digite a temperatura: \n",
      "Entrada inválida. Digite um número.\n",
      "Entrada inválida. Digite um número.\n",
      "Entrada inválida. Digite um número.\n",
      "Entrada inválida. Digite um número.\n",
      "10.5\n",
      "Digite 1 para converter celsius_to_fahrenheit\n",
      "Digite 2 para converter fahrenheit_to_celsius\n",
      "1\n",
      "convertendo 10.5 de c to f\n",
      "50.90\n"
     ]
    }
   ],
   "source": [
    "#scale_input: int = float(input(\"Digite 1 para converter celsius_to_fahrenheit: \"))\n",
    "#scale_list: list[str] = [\"Celsius\", \"Fahrenheit\"]\n",
    "\n",
    "def input_temperatura() -> float:\n",
    "    while True:\n",
    "        try:\n",
    "            temperature_input: float = float(input())\n",
    "            return temperature_input\n",
    "        except ValueError:\n",
    "            print(\"Entrada inválida. Digite um número.\")\n",
    "\n",
    "def input_scale() -> int:\n",
    "    while True:\n",
    "        try:\n",
    "            scale_input: int = int(input())\n",
    "            return scale_input\n",
    "        except ValueError:\n",
    "            print(\"Entrada inválida. Digite um número.\")\n",
    "\n",
    "def celsius_to_fahrenheit(temperature: float) -> float:\n",
    "    conversion: float = (temperature * 1.8) + 32\n",
    "    print(f\"convertendo {temperature} de c to f\")\n",
    "    return conversion\n",
    "\n",
    "def fahrenheit_to_celsius(temperature: float) -> float:\n",
    "    conversion: float = (temperature - 32) * 0.55 \n",
    "    print(f\"convertendo {temperature} de f to c\")\n",
    "    return conversion\n",
    "\n",
    "##### main\n",
    "print(\"Digite a temperatura: \", flush=True)\n",
    "get_temperatura = input_temperatura()\n",
    "print(f\"{get_temperatura}\")\n",
    "\n",
    "print(\"Digite 1 para converter celsius_to_fahrenheit\", flush=True)\n",
    "print(\"Digite 2 para converter fahrenheit_to_celsius\", flush=True)\n",
    "get_scale = input_scale()\n",
    "print(f\"{get_scale}\")\n",
    "\n",
    "if get_scale == 1:\n",
    "    get_convertion: float = celsius_to_fahrenheit(get_temperatura)\n",
    "    print(f\"{get_convertion:.2f}\")\n",
    "\n",
    "elif get_scale == 2:\n",
    "    get_convertion: float = fahrenheit_to_celsius(get_temperatura)\n",
    "    print(f\"{get_convertion:.2f}\")"
   ]
  },
  {
   "cell_type": "markdown",
   "metadata": {},
   "source": [
    "### Exercício 3: Resolver uma Equação Linear\n",
    "\n",
    "Faça um programa que resolve uma equação linear do tipo ax + b = 0. Os valores de a e b são fornecidos pelo usuário."
   ]
  },
  {
   "cell_type": "code",
   "execution_count": 7,
   "metadata": {},
   "outputs": [
    {
     "name": "stdout",
     "output_type": "stream",
     "text": [
      "-0.1667\n"
     ]
    }
   ],
   "source": [
    "a: int = int(input(\"Digite o valor de a: \"))\n",
    "b: int = int(input(\"Digite o valor de b: \"))\n",
    "\n",
    "x = (0-b)/a\n",
    "\n",
    "print(f\"{x:.4f}\")"
   ]
  },
  {
   "cell_type": "markdown",
   "metadata": {},
   "source": [
    "### Exercício 4: Cálculo de Média Aritmética\n",
    "\n",
    "Escreva um programa que calcula a média aritmética de uma lista de números fornecida pelo usuário."
   ]
  },
  {
   "cell_type": "code",
   "execution_count": 9,
   "metadata": {},
   "outputs": [
    {
     "name": "stdout",
     "output_type": "stream",
     "text": [
      "###################\n",
      "count: 1\n",
      "sum: 3\n",
      "###################\n",
      "count: 2\n",
      "sum: 6\n",
      "###################\n",
      "count: 3\n",
      "sum: 9\n",
      "###################\n",
      "count: 4\n",
      "sum: 12\n",
      "###################\n",
      "count: 5\n",
      "sum: 15\n",
      "###################\n",
      "avg: 3.0\n"
     ]
    }
   ],
   "source": [
    "num_list: list[int] = [3,3,3,3,3]\n",
    "count: int = 0\n",
    "sum: int = 0\n",
    "avg: int = 0\n",
    "\n",
    "for i in range(len(num_list)):\n",
    "    print(\"###################\")\n",
    "    count += 1\n",
    "    print(f\"count: {count}\")\n",
    "    sum += num_list[i]\n",
    "    print(f\"sum: {sum}\")\n",
    "\n",
    "print(\"###################\")\n",
    "avg = sum / count\n",
    "print(f\"avg: {avg}\")\n",
    "    "
   ]
  },
  {
   "cell_type": "markdown",
   "metadata": {},
   "source": [
    "### Exercício 5: Determinar as Raízes de uma Equação Quadrática\n",
    "\n",
    "Crie um programa que encontra as raízes de uma equação quadrática do tipo ax^2 + bx + c = 0. O programa deve lidar com todos os tipos de raízes (reais e complexas)."
   ]
  },
  {
   "cell_type": "code",
   "execution_count": 17,
   "metadata": {},
   "outputs": [],
   "source": [
    "#from math import sqrt\n",
    "from cmath import sqrt"
   ]
  },
  {
   "cell_type": "code",
   "execution_count": 23,
   "metadata": {},
   "outputs": [
    {
     "name": "stdout",
     "output_type": "stream",
     "text": [
      "delta:-27\n",
      "raiz_delta: 5.196152422706632j\n",
      "x1: (-0.5+0.8660254037844387j)\n",
      "x2: (-0.5-0.8660254037844387j)\n"
     ]
    }
   ],
   "source": [
    "a: int = int(input(\"Digite o valor de a: \"))\n",
    "b: int = int(input(\"Digite o valor de b: \"))\n",
    "c: int = int(input(\"Digite o valor de c: \"))\n",
    "\n",
    "delta: float = (b**2) - (4*a*c)\n",
    "##print(f\" {}\")\n",
    "print(f\"delta:{delta}\")\n",
    "raiz_delta: float = sqrt(delta)\n",
    "print(f\"raiz_delta: {raiz_delta}\")\n",
    "\n",
    "x1: float = (-b + raiz_delta) / (2*a)\n",
    "x2: float = (-b - raiz_delta) / (2*a)\n",
    "\n",
    "print(f\"x1: {x1}\")\n",
    "print(f\"x2: {x2}\")\n"
   ]
  },
  {
   "cell_type": "markdown",
   "metadata": {},
   "source": [
    "### Exercício 6: Calcular o Fatorial de um Número\n",
    "\n",
    "Escreva uma função que calcula o fatorial de um número inteiro fornecido pelo usuário."
   ]
  },
  {
   "cell_type": "code",
   "execution_count": null,
   "metadata": {},
   "outputs": [],
   "source": []
  },
  {
   "cell_type": "markdown",
   "metadata": {},
   "source": [
    "### Exercício 7: Sequência de Fibonacci\n",
    "\n",
    "Crie um programa que gera a sequência de Fibonacci até um determinado número n fornecido pelo usuário."
   ]
  },
  {
   "cell_type": "code",
   "execution_count": null,
   "metadata": {},
   "outputs": [],
   "source": []
  },
  {
   "cell_type": "markdown",
   "metadata": {},
   "source": [
    "### Exercício 8: Cálculo de Juros Compostos\n",
    "\n",
    "Faça um programa que calcula o montante final de um investimento com juros compostos. O usuário deve fornecer o capital inicial, a taxa de juros anual, e o número de anos."
   ]
  },
  {
   "cell_type": "code",
   "execution_count": null,
   "metadata": {},
   "outputs": [],
   "source": []
  },
  {
   "cell_type": "markdown",
   "metadata": {},
   "source": [
    "### Exercício 9: Conversão de Moedas\n",
    "\n",
    "Escreva um programa que converte uma quantidade de uma moeda (como dólar) para outra (como euro), considerando uma taxa de câmbio fornecida pelo usuário."
   ]
  },
  {
   "cell_type": "code",
   "execution_count": null,
   "metadata": {},
   "outputs": [],
   "source": []
  },
  {
   "cell_type": "markdown",
   "metadata": {},
   "source": [
    "### Exercício 10: Verificar se um Número é Primo\n",
    "\n",
    "Crie uma função que verifica se um número fornecido pelo usuário é primo ou não."
   ]
  },
  {
   "cell_type": "code",
   "execution_count": null,
   "metadata": {},
   "outputs": [],
   "source": []
  },
  {
   "cell_type": "code",
   "execution_count": 16,
   "metadata": {},
   "outputs": [
    {
     "name": "stdout",
     "output_type": "stream",
     "text": [
      "Author: Diego Vergueiro\n",
      "\n"
     ]
    }
   ],
   "source": [
    "%reload_ext watermark\n",
    "%watermark -a \"Diego Vergueiro\""
   ]
  },
  {
   "cell_type": "code",
   "execution_count": 17,
   "metadata": {},
   "outputs": [],
   "source": [
    "#%watermark -v -m"
   ]
  },
  {
   "cell_type": "markdown",
   "metadata": {},
   "source": [
    "# Fim"
   ]
  }
 ],
 "metadata": {
  "kernelspec": {
   "display_name": "venv",
   "language": "python",
   "name": "python3"
  },
  "language_info": {
   "codemirror_mode": {
    "name": "ipython",
    "version": 3
   },
   "file_extension": ".py",
   "mimetype": "text/x-python",
   "name": "python",
   "nbconvert_exporter": "python",
   "pygments_lexer": "ipython3",
   "version": "3.12.3"
  }
 },
 "nbformat": 4,
 "nbformat_minor": 2
}
