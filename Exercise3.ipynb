{
 "cells": [
  {
   "cell_type": "markdown",
   "metadata": {},
   "source": [
    "Exercício 1: Soma de VetoresDescrição:  Escreva  uma  função  em  Python  que  some  dois  vetores.  Suponha  que  os vetores  têm  o  mesmo  tamanho.  Resolva  o  exercício  de  forma  diferente  do  que  foi mostrado nas aulas."
   ]
  },
  {
   "cell_type": "markdown",
   "metadata": {},
   "source": [
    "Exercício 2: Produto EscalarDescrição:  Implemente  uma  função  que  calcule  o  produto  escalar  entre  dois  vetores. Resolva o exercício de forma diferente do que foi mostrado nas aulas."
   ]
  },
  {
   "cell_type": "markdown",
   "metadata": {},
   "source": [
    "Exercício 3: Norma de um VetorDescrição: Escreva uma função que calcule a norma (ou comprimento) de um vetor."
   ]
  },
  {
   "cell_type": "markdown",
   "metadata": {},
   "source": [
    "Exercício 4: Ângulo entre Dois VetoresDescrição: Implemente uma função que calcule o ângulo (em graus) entre dois vetores."
   ]
  },
  {
   "cell_type": "markdown",
   "metadata": {},
   "source": [
    "Exercício 5: Projeção de um Vetor sobre OutroDescrição: Escreva uma função que encontre a projeção de um vetor sobre outro vetor."
   ]
  }
 ],
 "metadata": {
  "language_info": {
   "name": "python"
  }
 },
 "nbformat": 4,
 "nbformat_minor": 2
}
